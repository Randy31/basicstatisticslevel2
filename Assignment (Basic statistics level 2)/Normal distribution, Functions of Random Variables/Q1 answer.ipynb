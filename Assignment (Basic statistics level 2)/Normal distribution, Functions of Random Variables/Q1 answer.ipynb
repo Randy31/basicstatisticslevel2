{
 "cells": [
  {
   "cell_type": "code",
   "execution_count": 1,
   "id": "24e2d3ae",
   "metadata": {},
   "outputs": [],
   "source": [
    "from scipy.stats import norm"
   ]
  },
  {
   "cell_type": "code",
   "execution_count": 3,
   "id": "2eb8a4c4",
   "metadata": {},
   "outputs": [],
   "source": [
    "mean = 45\n",
    "std_dev = 8\n",
    "time = 60"
   ]
  },
  {
   "cell_type": "code",
   "execution_count": 5,
   "id": "d63db918",
   "metadata": {},
   "outputs": [
    {
     "data": {
      "text/plain": [
       "1.875"
      ]
     },
     "execution_count": 5,
     "metadata": {},
     "output_type": "execute_result"
    }
   ],
   "source": [
    "zscore = (time - mean)/std_dev\n",
    "zscore"
   ]
  },
  {
   "cell_type": "code",
   "execution_count": 7,
   "id": "ed0a21a6",
   "metadata": {},
   "outputs": [],
   "source": [
    "probability = 1 - norm.cdf(zscore)"
   ]
  },
  {
   "cell_type": "code",
   "execution_count": 8,
   "id": "05d6f237",
   "metadata": {},
   "outputs": [
    {
     "data": {
      "text/plain": [
       "0.030396361765261393"
      ]
     },
     "execution_count": 8,
     "metadata": {},
     "output_type": "execute_result"
    }
   ],
   "source": [
    "probability"
   ]
  },
  {
   "cell_type": "code",
   "execution_count": null,
   "id": "55e97c8c",
   "metadata": {},
   "outputs": [],
   "source": []
  }
 ],
 "metadata": {
  "kernelspec": {
   "display_name": "Python 3 (ipykernel)",
   "language": "python",
   "name": "python3"
  },
  "language_info": {
   "codemirror_mode": {
    "name": "ipython",
    "version": 3
   },
   "file_extension": ".py",
   "mimetype": "text/x-python",
   "name": "python",
   "nbconvert_exporter": "python",
   "pygments_lexer": "ipython3",
   "version": "3.11.4"
  }
 },
 "nbformat": 4,
 "nbformat_minor": 5
}
